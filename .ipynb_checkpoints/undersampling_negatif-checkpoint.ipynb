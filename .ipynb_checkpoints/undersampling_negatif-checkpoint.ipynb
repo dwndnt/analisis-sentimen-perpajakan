{
 "cells": [
  {
   "cell_type": "code",
   "execution_count": 1,
   "id": "c55da34c",
   "metadata": {},
   "outputs": [
    {
     "name": "stdout",
     "output_type": "stream",
     "text": [
      "Jumlah data setelah undersampling:\n",
      "606\n"
     ]
    }
   ],
   "source": [
    "import pandas as pd\n",
    "from sklearn.preprocessing import LabelEncoder\n",
    "from imblearn.under_sampling import RandomUnderSampler\n",
    "\n",
    "# Memuat dataset\n",
    "dataset = pd.read_csv(\"data_labeled.csv\")\n",
    "\n",
    "# Melakukan encoding pada kolom 'sentiment_category'\n",
    "label_encoder = LabelEncoder()\n",
    "dataset['sentiment_category_encoded'] = label_encoder.fit_transform(dataset['sentiment_category'])\n",
    "\n",
    "# Memisahkan data berdasarkan kategori sentimen\n",
    "positive_data = dataset[dataset['sentiment_category_encoded'] == 0]\n",
    "negative_data = dataset[dataset['sentiment_category_encoded'] == 1]\n",
    "neutral_data = dataset[dataset['sentiment_category_encoded'] == 2]\n",
    "\n",
    "# Menentukan jumlah sampel dari kelas mayoritas yang akan dipertahankan\n",
    "undersample_size = min(len(positive_data), len(negative_data), len(neutral_data))\n",
    "\n",
    "# Mengambil subset data dari kelas mayoritas sejumlah undersample_size\n",
    "positive_data_undersampled = positive_data.sample(n=undersample_size, random_state=42)\n",
    "negative_data_undersampled = negative_data.sample(n=undersample_size, random_state=42)\n",
    "neutral_data_undersampled = neutral_data.sample(n=undersample_size, random_state=42)\n",
    "\n",
    "# Menggabungkan data hasil undersampling dengan kelas mayoritas\n",
    "undersampled_dataset = pd.concat([positive_data_undersampled, negative_data_undersampled, neutral_data_undersampled])\n",
    "\n",
    "# Menampilkan jumlah data setelah undersampling\n",
    "print(\"Jumlah data setelah undersampling:\")\n",
    "print(undersampled_dataset.shape[0])\n",
    "\n",
    "# Menyimpan dataset undersampled ke dalam file csv\n",
    "undersampled_dataset.to_csv(\"data_labeled_undersampled.csv\", index=False)\n"
   ]
  },
  {
   "cell_type": "code",
   "execution_count": 2,
   "id": "a190b9d1",
   "metadata": {},
   "outputs": [
    {
     "name": "stdout",
     "output_type": "stream",
     "text": [
      "Jumlah data dengan sentimen positif: 202\n",
      "Jumlah data dengan sentimen negatif: 202\n",
      "Jumlah data dengan sentimen netral: 202\n",
      "\n",
      "Contoh data setelah undersampling dan pelabelan sentimen:\n",
      "                               Word_After_Normalization sentiment_category\n",
      "1693  min kalo artis luar konser di indonesia semua ...            Neutral\n",
      "6113  perusahaan berbasis crowdfunding misalnya amar...            Neutral\n",
      "2115  jika tidak ada but maka atas penghasilan dari ...            Neutral\n",
      "2603          gapapa menambah pemasukan pajak indonesia            Neutral\n",
      "827   pb jepang dan indonesia dapat dilihat pada lam...            Neutral\n",
      "6786              nikmatnya duit pajak rakyat indonesia            Neutral\n",
      "911   ayo ungkap sampai habis jangan ada yang tersis...           Negative\n",
      "2857  azab seorang koruptor pajak indonesia anaknya ...           Negative\n",
      "2179  bos gigimu di pasang gigi palsu dulu saja biar...           Positive\n",
      "6952  hai kak jika yang kakak maksud adalah pb antar...           Positive\n"
     ]
    }
   ],
   "source": [
    "# Menampilkan jumlah data dengan sentimen positif, negatif, dan netral pada dataset undersampled\n",
    "positive_count = len(undersampled_dataset[undersampled_dataset['sentiment_category'] == 'Positive'])\n",
    "negative_count = len(undersampled_dataset[undersampled_dataset['sentiment_category'] == 'Negative'])\n",
    "neutral_count = len(undersampled_dataset[undersampled_dataset['sentiment_category'] == 'Neutral'])\n",
    "\n",
    "print(\"Jumlah data dengan sentimen positif:\", positive_count)\n",
    "print(\"Jumlah data dengan sentimen negatif:\", negative_count)\n",
    "print(\"Jumlah data dengan sentimen netral:\", neutral_count)\n",
    "\n",
    "# Menampilkan beberapa contoh data dari dataset undersampled\n",
    "sample_data = undersampled_dataset.sample(n=10)  # Ubah nilai n sesuai kebutuhan\n",
    "\n",
    "print(\"\\nContoh data setelah undersampling dan pelabelan sentimen:\")\n",
    "print(sample_data[['Word_After_Normalization', 'sentiment_category']])\n"
   ]
  },
  {
   "cell_type": "code",
   "execution_count": 3,
   "id": "71b496e9",
   "metadata": {},
   "outputs": [],
   "source": [
    "from sklearn.model_selection import train_test_split\n",
    "\n",
    "data_set = pd.read_csv('data_labeled_undersampled.csv')\n",
    "# Memisahkan fitur (X) dan label (y)\n",
    "X = data_set[\"Word_Stemmed\"]\n",
    "y = data_set[\"sentiment_category\"]\n",
    "\n",
    "# Membagi data menjadi data train dan data test\n",
    "X_train, X_test, y_train, y_test = train_test_split(X, y, test_size=0.2, random_state=42)"
   ]
  },
  {
   "cell_type": "code",
   "execution_count": 4,
   "id": "4c3f3a8f",
   "metadata": {},
   "outputs": [
    {
     "name": "stdout",
     "output_type": "stream",
     "text": [
      "Dimensi matriks TF-IDF (data train): (484, 2418)\n",
      "Dimensi matriks TF-IDF (data test): (122, 2418)\n"
     ]
    }
   ],
   "source": [
    "from sklearn.feature_extraction.text import TfidfVectorizer\n",
    "\n",
    "# Inisialisasi objek TfidfVectorizer\n",
    "tfidf_vectorizer = TfidfVectorizer()\n",
    "\n",
    "# Menggunakan data train untuk fitting dan transformasi\n",
    "X_train_tfidf = tfidf_vectorizer.fit_transform(X_train)\n",
    "\n",
    "# Menggunakan data test untuk transformasi\n",
    "X_test_tfidf = tfidf_vectorizer.transform(X_test)\n",
    "\n",
    "# Menampilkan dimensi matriks TF-IDF\n",
    "print(\"Dimensi matriks TF-IDF (data train):\", X_train_tfidf.shape)\n",
    "print(\"Dimensi matriks TF-IDF (data test):\", X_test_tfidf.shape)\n"
   ]
  },
  {
   "cell_type": "code",
   "execution_count": 5,
   "id": "1ed0eb04",
   "metadata": {},
   "outputs": [
    {
     "name": "stdout",
     "output_type": "stream",
     "text": [
      "              precision    recall  f1-score   support\n",
      "\n",
      "    Negative       0.67      0.62      0.64        45\n",
      "     Neutral       0.38      0.38      0.38        37\n",
      "    Positive       0.53      0.57      0.55        40\n",
      "\n",
      "    accuracy                           0.53       122\n",
      "   macro avg       0.53      0.53      0.53       122\n",
      "weighted avg       0.54      0.53      0.53       122\n",
      "\n"
     ]
    }
   ],
   "source": [
    "from sklearn.naive_bayes import MultinomialNB\n",
    "from sklearn.metrics import classification_report\n",
    "# Inisialisasi model Naive Bayes\n",
    "naive_bayes = MultinomialNB()\n",
    "\n",
    "# Melakukan fitting model menggunakan data train yang sudah dilakukan vektorisasi TF-IDF\n",
    "naive_bayes.fit(X_train_tfidf, y_train)\n",
    "\n",
    "# Melakukan prediksi menggunakan model Naive Bayes\n",
    "y_pred = naive_bayes.predict(X_test_tfidf)\n",
    "\n",
    "# Menampilkan hasil klasifikasi\n",
    "print(classification_report(y_test, y_pred, zero_division=0))"
   ]
  },
  {
   "cell_type": "code",
   "execution_count": 6,
   "id": "c871f81f",
   "metadata": {},
   "outputs": [
    {
     "data": {
      "image/png": "[encoded data removed]",
      "text/plain": [
       "<Figure size 576x432 with 2 Axes>"
      ]
     },
     "metadata": {
      "needs_background": "light"
     },
     "output_type": "display_data"
    }
   ],
   "source": [
    "import seaborn as sns\n",
    "import matplotlib.pyplot as plt\n",
    "from sklearn.metrics import confusion_matrix\n",
    "\n",
    "# Mendapatkan matriks kebingungan\n",
    "cm = confusion_matrix(y_test, y_pred)\n",
    "\n",
    "# Definisikan label kategori\n",
    "categories = ['Negative', 'Neutral', 'Positive']\n",
    "\n",
    "# Visualisasi matriks kebingungan menggunakan heatmap\n",
    "plt.figure(figsize=(8, 6))\n",
    "sns.heatmap(cm, annot=True, cmap=\"Blues\", fmt=\"d\", xticklabels=categories, yticklabels=categories)\n",
    "plt.title('Confusion Matrix')\n",
    "plt.xlabel('Predicted')\n",
    "plt.ylabel('Actual')\n",
    "plt.show()\n"
   ]
  },
  {
   "cell_type": "code",
   "execution_count": 7,
   "id": "729e1bc9",
   "metadata": {},
   "outputs": [
    {
     "name": "stdout",
     "output_type": "stream",
     "text": [
      "Accuracy: 53.28%\n",
      "Precision: 52.66%\n",
      "Recall: 52.52%\n"
     ]
    }
   ],
   "source": [
    "from sklearn.metrics import accuracy_score, precision_score, recall_score, f1_score\n",
    "\n",
    "accuracy = accuracy_score(y_test, y_pred)\n",
    "precision = precision_score(y_test, y_pred, average=\"macro\")\n",
    "recall = recall_score(y_test, y_pred, average=\"macro\")\n",
    "\n",
    "\n",
    "accuracy_percentage = accuracy * 100\n",
    "precision_percentage = precision * 100\n",
    "recall_percentage = recall * 100\n",
    "\n",
    "print(\"Accuracy: {:.2f}%\".format(accuracy_percentage))\n",
    "print(\"Precision: {:.2f}%\".format(precision_percentage))\n",
    "print(\"Recall: {:.2f}%\".format(recall_percentage))"
   ]
  },
  {
   "cell_type": "code",
   "execution_count": 8,
   "id": "528f8328",
   "metadata": {},
   "outputs": [
    {
     "name": "stdout",
     "output_type": "stream",
     "text": [
      "Kelas: 0\n",
      "True Positive (TP): 28\n",
      "True Negative (TN): 63\n",
      "False Positive (FP): 14\n",
      "False Negative (FN): 17\n",
      "\n",
      "Kelas: 1\n",
      "True Positive (TP): 14\n",
      "True Negative (TN): 62\n",
      "False Positive (FP): 23\n",
      "False Negative (FN): 23\n",
      "\n",
      "Kelas: 2\n",
      "True Positive (TP): 23\n",
      "True Negative (TN): 62\n",
      "False Positive (FP): 20\n",
      "False Negative (FN): 17\n",
      "\n"
     ]
    }
   ],
   "source": [
    "from sklearn.metrics import confusion_matrix\n",
    "import numpy as np\n",
    "\n",
    "# Menghitung confusion matrix\n",
    "cm = confusion_matrix(y_test, y_pred)\n",
    "\n",
    "# Mencetak TP, TN, FP, FN untuk setiap kelas\n",
    "for i in range(len(cm)):\n",
    "    TP = cm[i, i]\n",
    "    TN = np.sum(cm) - np.sum(cm[i, :]) - np.sum(cm[:, i]) + TP\n",
    "    FP = np.sum(cm[:, i]) - TP\n",
    "    FN = np.sum(cm[i, :]) - TP\n",
    "    print(f\"Kelas: {i}\")\n",
    "    print(f\"True Positive (TP): {TP}\")\n",
    "    print(f\"True Negative (TN): {TN}\")\n",
    "    print(f\"False Positive (FP): {FP}\")\n",
    "    print(f\"False Negative (FN): {FN}\")\n",
    "    print()\n"
   ]
  }
 ],
 "metadata": {
  "kernelspec": {
   "display_name": "Python 3 (ipykernel)",
   "language": "python",
   "name": "python3"
  },
  "language_info": {
   "codemirror_mode": {
    "name": "ipython",
    "version": 3
   },
   "file_extension": ".py",
   "mimetype": "text/x-python",
   "name": "python",
   "nbconvert_exporter": "python",
   "pygments_lexer": "ipython3",
   "version": "3.9.9"
  }
 },
 "nbformat": 4,
 "nbformat_minor": 5
}
